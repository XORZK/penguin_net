{
 "cells": [
  {
   "cell_type": "code",
   "execution_count": 2,
   "id": "7a767bfd-826b-4bf0-a1fd-9c1c2e1fcae2",
   "metadata": {},
   "outputs": [],
   "source": [
    "import matplotlib.pyplot as plt\n",
    "import numpy as np"
   ]
  },
  {
   "cell_type": "code",
   "execution_count": 13,
   "id": "84c14eb7-291c-42fe-95c3-549783d5a323",
   "metadata": {},
   "outputs": [],
   "source": [
    "def graph_loss(x, y): \n",
    "    w, b = 1, 1\n",
    "    assert(len(x) == len(y))\n",
    "    l = len(x)\n",
    "    y_pred = x * w + b\n",
    "    loss = sum(np.square(y_pred-y)) / l"
   ]
  },
  {
   "cell_type": "code",
   "execution_count": null,
   "id": "d8ef3de2-0367-4850-836d-dc898bc5f35c",
   "metadata": {},
   "outputs": [],
   "source": []
  }
 ],
 "metadata": {
  "kernelspec": {
   "display_name": "Python 3 (ipykernel)",
   "language": "python",
   "name": "python3"
  },
  "language_info": {
   "codemirror_mode": {
    "name": "ipython",
    "version": 3
   },
   "file_extension": ".py",
   "mimetype": "text/x-python",
   "name": "python",
   "nbconvert_exporter": "python",
   "pygments_lexer": "ipython3",
   "version": "3.11.6"
  }
 },
 "nbformat": 4,
 "nbformat_minor": 5
}
